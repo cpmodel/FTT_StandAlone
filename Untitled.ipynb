{
 "cells": [
  {
   "cell_type": "code",
   "execution_count": null,
   "id": "ca743148-aadd-44ca-b57a-6d69700847dc",
   "metadata": {},
   "outputs": [],
   "source": [
    "outputs = ['MEWK', 'MEWG', 'RPOP', 'PFRE', 'PFRC', 'PFRO', 'PFRM', 'PFRB', 'PFRH', 'MEWR', 'MEWT', 'MEWI', 'MEWW', 'MJEF', 'MEWL', 'MWLO', 'MES1', 'MES2', 'MEWC', 'MECW', 'METC', 'MECD', 'MTCD', 'MECS', 'MECC', 'MEWB', 'MEWA', 'MWKA', 'MEFI', 'MEWE', 'MEWP', 'MEWD', 'MEPD', 'MERC', 'MRED', 'MRES', 'MCSC', 'MWFC', 'MWIC', 'MCFC', 'MCOC', 'MWIY', 'MESC', 'MELF', 'MJEP', 'MCCS', 'MJET', 'MJCO', 'MPTR', 'MWMC', 'MMCD', 'MEC1', 'MEC2', 'MEC3', 'MEC4', 'MEC5', 'MEC6', 'MGLB', 'MKLB', 'MWG1', 'MWG2', 'MWG3', 'MWG4', 'MWG5', 'MWG6', 'MWDD', 'MWDT', 'MCRT', 'MGAM', 'MSAL', 'MSSP', 'MSSG', 'MSSF', 'MSSM', 'MSSC', 'MSSI', 'MLSP', 'MLSG', 'MLSF', 'MLSM', 'MLSC', 'MLSI', 'MEKA', 'MSRV', 'MEWS', 'MSLB', 'MLLB', 'BCET', 'PMF', 'RERY', 'DPAR', 'MEWDX', 'FR08', 'MELO', 'MERCX', 'MEWLX', 'MGAMX', 'MEWGX', 'MEWKX', 'METCX', 'FRETX', 'MSSMX', 'MLSMX', 'MSSPX', 'MLSPX', 'MADG', 'MCRG', 'PRSCX', 'PRSC13', 'PRSC15', 'EXX', 'EX13', 'MCOCX', 'MWFCX', 'MWICX', 'HJET', 'HJFC', 'HEWA', 'HEWB', 'HEWW', 'HFIN', 'HFFC', 'HEWF', 'RHUD', 'HTVS', 'HTRT', 'HREG', 'HWSA', 'HEFI', 'HETR', 'BHTC', 'HEWG', 'HEWE', 'HJHF', 'HEWP', 'HEWK', 'HEWI', 'HEWC', 'HETC', 'HGC1', 'HWCD', 'HGC2', 'HGD2', 'HGC3', 'HGD3', 'HGAM', 'HEWS', 'HJEF', 'TWSA', 'TWIY', 'TVFP', 'TTVT', 'TTRT', 'TREG', 'TLCD', 'TJET', 'TJEF', 'TGAM', 'TEWW', 'TEWS', 'TEWK', 'TEWI', 'TEWG', 'TEWE', 'TEWC', 'TEWB', 'TEWA', 'PFRG', 'TETH', 'TETC', 'TESH', 'TESF', 'TELC', 'TEGC', 'TEFF', 'TECD', 'TE3P', 'RVKM', 'RTFT', 'RTCO', 'RLTA', 'RHSM', 'RFLT', 'REVS', 'RBFM', 'BTTC', 'IUD1', 'ISC1', 'IWW1', 'IWI1', 'IWK1', 'IWA1', 'BIC1', 'IWS1', 'IWB1', 'IFD1', 'ILC1', 'ILG1', 'ILD1', 'IWE1', 'IHW1', 'IAM1', 'IRG1', 'ISB1', 'IXS1', 'IUD2', 'ISC2', 'IWW2', 'IWI2', 'IWK2', 'IWA2', 'BIC2', 'IWS2', 'IWB2', 'IFD2', 'ILC2', 'ILG2', 'ILD2', 'IWE2', 'IHW2', 'IAM2', 'IRG2', 'ISB2', 'IXS2', 'IUD3', 'ISC3', 'IWW3', 'IWI3', 'IWK3', 'IWA3', 'BIC3', 'IWS3', 'IWB3', 'IFD3', 'ILC3', 'ILG3', 'ILD3', 'IWE3', 'IHW3', 'IAM3', 'IRG3', 'ISB3', 'IXS3', 'IUD4', 'ISC4', 'IWW4', 'IWI4', 'IWK4', 'IWA4', 'BIC4', 'IWS4', 'IWB4', 'IFD4', 'ILC4', 'ILG4', 'ILD4', 'IWE4', 'IHW4', 'IAM4', 'IRG4', 'ISB4', 'IXS4', 'IUD5', 'ISC5', 'IWW5', 'IWI5', 'IWK5', 'IWA5', 'BIC5', 'IWS5', 'IWB5', 'IFD5', 'ILC5', 'ILG5', 'ILD5', 'IWE5', 'IHW5', 'IAM5', 'IRG5', 'ISB5', 'IXS5', 'RVKZ', 'RFLZ', 'ZEWS', 'RVEH', 'RTFZ0', 'ZREG', 'ZWSA', 'ZTVT', 'ZTRT', 'ZBFM', 'RZCO', 'RTFZ1', 'ZEWSA', 'ZCET', 'ZEWSB', 'ZEWA', 'ZEWB', 'ZLER', 'RVHH', 'ZESF', 'ZSFD', 'ZLOD', 'ZSLR', 'ZJTT', 'ZJET', 'ZCEZ', 'ZTLC', 'ZTLD', 'ZTTC', 'ZTTD', 'ZTLL', 'ZTDD', 'ZEWG', 'ZEWY', 'ZESD', 'ZESA', 'ZEVV', 'ZESG', 'ZEST', 'ZJEF', 'ZJNJ', 'ZEWE', 'ZEWW', 'ZWIY', 'noit']\n",
    "inputs = ['MEWK', 'MEWG', 'RPOP', 'PFRE', 'PFRC', 'PFRO', 'PFRM', 'PFRB', 'PFRH', 'MEWR', 'MEWT', 'MEWI', 'MEWW', 'MJEF', 'MEWL', 'MWLO', 'MES1', 'MES2', 'MEWC', 'MECW', 'METC', 'MECD', 'MTCD', 'MECS', 'MECC', 'MEWB', 'MEWA', 'MWKA', 'MEFI', 'MEWE', 'MEWP', 'MEWD', 'MEPD', 'MERC', 'MRED', 'MRES', 'MCSC', 'MWFC', 'MWIC', 'MCFC', 'MCOC', 'MWIY', 'MESC', 'MELF', 'MJEP', 'MCCS', 'MJET', 'MJCO', 'MPTR', 'MWMC', 'MMCD', 'MEC1', 'MEC2', 'MEC3', 'MEC4', 'MEC5', 'MEC6', 'MGLB', 'MKLB', 'MWG1', 'MWG2', 'MWG3', 'MWG4', 'MWG5', 'MWG6', 'MWDD', 'MWDT', 'MCRT', 'MGAM', 'MSAL', 'MSSP', 'MSSG', 'MSSF', 'MSSM', 'MSSC', 'MSSI', 'MLSP', 'MLSG', 'MLSF', 'MLSM', 'MLSC', 'MLSI', 'MEKA', 'MSRV', 'MEWS', 'MSLB', 'MLLB', 'BCET', 'PMF', 'RERY', 'DPAR', 'MEWDX', 'FR08', 'MELO', 'MERCX', 'MEWLX', 'MGAMX', 'MEWGX', 'MEWKX', 'METCX', 'FRETX', 'MSSMX', 'MLSMX', 'MSSPX', 'MLSPX', 'MADG', 'MCRG', 'PRSCX', 'PRSC13', 'PRSC15', 'EXX', 'EX13', 'MCOCX', 'MWFCX', 'MWICX', 'HJET', 'HJFC', 'HEWA', 'HEWB', 'HEWW', 'HFIN', 'HFFC', 'HEWF', 'RHUD', 'HTVS', 'HTRT', 'HREG', 'HWSA', 'HEFI', 'HETR', 'BHTC', 'HEWG', 'HEWE', 'HJHF', 'HEWP', 'HEWK', 'HEWI', 'HEWC', 'HETC', 'HGC1', 'HWCD', 'HGC2', 'HGD2', 'HGC3', 'HGD3', 'HGAM', 'HEWS', 'HJEF', 'TWSA', 'TWIY', 'TVFP', 'TTVT', 'TTRT', 'TREG', 'TLCD', 'TJET', 'TJEF', 'TGAM', 'TEWW', 'TEWS', 'TEWK', 'TEWI', 'TEWG', 'TEWE', 'TEWC', 'TEWB', 'TEWA', 'PFRG', 'TETH', 'TETC', 'TESH', 'TESF', 'TELC', 'TEGC', 'TEFF', 'TECD', 'TE3P', 'RVKM', 'RTFT', 'RTCO', 'RLTA', 'RHSM', 'RFLT', 'REVS', 'RBFM', 'BTTC', 'IUD1', 'ISC1', 'IWW1', 'IWI1', 'IWK1', 'IWA1', 'BIC1', 'IWS1', 'IWB1', 'IFD1', 'ILC1', 'ILG1', 'ILD1', 'IWE1', 'IHW1', 'IAM1', 'IRG1', 'ISB1', 'IXS1', 'IUD2', 'ISC2', 'IWW2', 'IWI2', 'IWK2', 'IWA2', 'BIC2', 'IWS2', 'IWB2', 'IFD2', 'ILC2', 'ILG2', 'ILD2', 'IWE2', 'IHW2', 'IAM2', 'IRG2', 'ISB2', 'IXS2', 'IUD3', 'ISC3', 'IWW3', 'IWI3', 'IWK3', 'IWA3', 'BIC3', 'IWS3', 'IWB3', 'IFD3', 'ILC3', 'ILG3', 'ILD3', 'IWE3', 'IHW3', 'IAM3', 'IRG3', 'ISB3', 'IXS3', 'IUD4', 'ISC4', 'IWW4', 'IWI4', 'IWK4', 'IWA4', 'BIC4', 'IWS4', 'IWB4', 'IFD4', 'ILC4', 'ILG4', 'ILD4', 'IWE4', 'IHW4', 'IAM4', 'IRG4', 'ISB4', 'IXS4', 'IUD5', 'ISC5', 'IWW5', 'IWI5', 'IWK5', 'IWA5', 'BIC5', 'IWS5', 'IWB5', 'IFD5', 'ILC5', 'ILG5', 'ILD5', 'IWE5', 'IHW5', 'IAM5', 'IRG5', 'ISB5', 'IXS5', 'RVKZ', 'RFLZ', 'ZEWS', 'RVEH', 'RTFZ0', 'ZREG', 'ZWSA', 'ZTVT', 'ZTRT', 'ZBFM', 'RZCO', 'RTFZ1', 'ZEWSA', 'ZCET', 'ZEWSB', 'ZEWA', 'ZEWB', 'ZLER', 'RVHH', 'ZESF', 'ZSFD', 'ZLOD', 'ZSLR', 'ZJTT', 'ZJET', 'ZCEZ', 'ZTLC', 'ZTLD', 'ZTTC', 'ZTTD', 'ZTLL', 'ZTDD', 'ZEWG', 'ZEWY', 'ZESD', 'ZESA', 'ZEVV', 'ZESG', 'ZEST', 'ZJEF', 'ZJNJ', 'ZEWE', 'ZEWW', 'ZWIY', 'noit']"
   ]
  },
  {
   "cell_type": "code",
   "execution_count": null,
   "id": "948b7f5a-8247-45af-ad1c-d387cda97bc1",
   "metadata": {},
   "outputs": [],
   "source": [
    "pd.DataFrame(output_all['S1']['MEWK'][33].reshape(-1,41)).to_csv('S1_MEWK_US.csv')"
   ]
  }
 ],
 "metadata": {
  "kernelspec": {
   "display_name": "Python 3 (ipykernel)",
   "language": "python",
   "name": "python3"
  },
  "language_info": {
   "codemirror_mode": {
    "name": "ipython",
    "version": 3
   },
   "file_extension": ".py",
   "mimetype": "text/x-python",
   "name": "python",
   "nbconvert_exporter": "python",
   "pygments_lexer": "ipython3",
   "version": "3.10.9"
  }
 },
 "nbformat": 4,
 "nbformat_minor": 5
}
